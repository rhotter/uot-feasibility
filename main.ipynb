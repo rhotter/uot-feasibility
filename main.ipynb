{
 "cells": [
  {
   "cell_type": "markdown",
   "metadata": {},
   "source": [
    "# Is Ultrasound-Modulated Optical Tomography Feasible for Detecting Neural Activity?\n"
   ]
  },
  {
   "cell_type": "markdown",
   "metadata": {},
   "source": [
    "## Estimating the # of tagged photons\n"
   ]
  },
  {
   "cell_type": "code",
   "execution_count": 3,
   "metadata": {},
   "outputs": [
    {
     "name": "stdout",
     "output_type": "stream",
     "text": [
      "========================================\n",
      "Forward Loss        : 1.95e-04\n",
      "Backward Loss       : 6.31e-02\n",
      "Source Power        : 1.00e-01 W\n",
      "Power at Detector   : 1.23e-06 W\n",
      "Source Photons      : 4.03e+17\n",
      "Modulated Photons   : 4.96e+12\n",
      "========================================\n"
     ]
    }
   ],
   "source": [
    "import numpy as np\n",
    "from scipy.constants import h, c\n",
    "\n",
    "# --- Parameters ---\n",
    "tagging_efficiency = 0.1  # Fraction of light that gets frequency-shifted\n",
    "µ_a = 0.02  # Absorption coefficient [mm^-1]\n",
    "µ_s_prime = 0.67  # Reduced scattering coefficient [mm^-1]\n",
    "I0 = 100e-3  # Incident light intensity [W/cm^2]\n",
    "A = 1  # Source area [cm^2]\n",
    "z = 10  # Depth of focal spot [mm]\n",
    "focal_size = 1  # Focal spot size [mm^2]\n",
    "det_area = 100  # Detector area [mm^2]\n",
    "wavelength = 800e-9  # Wavelength [m] (800 nm)\n",
    "\n",
    "# --- Derived quantities ---\n",
    "µ_eff = np.sqrt(3 * µ_a * (µ_a + µ_s_prime))\n",
    "z0 = -1 / µ_s_prime\n",
    "\n",
    "# Green's functions\n",
    "G_forward = (\n",
    "    -3\n",
    "    * (µ_s_prime + µ_a)\n",
    "    / (4 * np.pi)\n",
    "    * 2\n",
    "    * z\n",
    "    * z0\n",
    "    * (µ_eff + 1 / z)\n",
    "    * np.exp(-µ_eff * z)\n",
    "    / z**2\n",
    ")\n",
    "\n",
    "G_back = 2 * z / (4 * np.pi) * (µ_eff + 1 / z) * np.exp(-µ_eff * z) / z**2\n",
    "\n",
    "# --- Losses ---\n",
    "loss_forward = G_forward * tagging_efficiency * focal_size\n",
    "loss_back = G_back * det_area\n",
    "\n",
    "# --- Detector Power ---\n",
    "P_source = I0 * A  # [W]\n",
    "P = P_source * loss_forward * loss_back  # [W]\n",
    "\n",
    "# --- Photon Energy and Number of Modulated Photons ---\n",
    "photon_energy = h * c / wavelength\n",
    "n_photons = P / photon_energy\n",
    "\n",
    "# --- Output ---\n",
    "print(\"=\" * 40)\n",
    "print(f\"{'Forward Loss':<20}: {loss_forward:.2e}\")\n",
    "print(f\"{'Backward Loss':<20}: {loss_back:.2e}\")\n",
    "print(f\"{'Source Power':<20}: {P_source:.2e} W\")\n",
    "print(f\"{'Power at Detector':<20}: {P:.2e} W\")\n",
    "print(f\"{'Source Photons':<20}: {P_source / photon_energy:.2e}\")\n",
    "print(f\"{'Modulated Photons':<20}: {n_photons:.2e}\")\n",
    "print(\"=\" * 40)"
   ]
  }
 ],
 "metadata": {
  "kernelspec": {
   "display_name": "base",
   "language": "python",
   "name": "python3"
  },
  "language_info": {
   "codemirror_mode": {
    "name": "ipython",
    "version": 3
   },
   "file_extension": ".py",
   "mimetype": "text/x-python",
   "name": "python",
   "nbconvert_exporter": "python",
   "pygments_lexer": "ipython3",
   "version": "3.11.6"
  }
 },
 "nbformat": 4,
 "nbformat_minor": 2
}
